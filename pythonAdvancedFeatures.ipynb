{
  "nbformat": 4,
  "nbformat_minor": 0,
  "metadata": {
    "colab": {
      "name": "pythonAdvancedFeatures.ipynb",
      "provenance": [],
      "authorship_tag": "ABX9TyN/cyP7fO4OpOwlNeQ0h4Wt",
      "include_colab_link": true
    },
    "kernelspec": {
      "name": "python3",
      "display_name": "Python 3"
    }
  },
  "cells": [
    {
      "cell_type": "markdown",
      "metadata": {
        "id": "view-in-github",
        "colab_type": "text"
      },
      "source": [
        "<a href=\"https://colab.research.google.com/github/MatNoble/leetcode/blob/main/pythonAdvancedFeatures.ipynb\" target=\"_parent\"><img src=\"https://colab.research.google.com/assets/colab-badge.svg\" alt=\"Open In Colab\"/></a>"
      ]
    },
    {
      "cell_type": "markdown",
      "metadata": {
        "id": "O3jLnCSD306X"
      },
      "source": [
        "## 切片 Slice\n"
      ]
    },
    {
      "cell_type": "code",
      "metadata": {
        "id": "MfZhpK-R4aaE"
      },
      "source": [
        "strList = ['a', 'b', 'c', 'd', 'e']\n",
        "print(f\"strList[2:] --> {strList[2:]}\")\n",
        "print(f\"strList[:-2] --> {strList[:-2]}\")\n",
        "print(f\"strList[1:3] --> {strList[1:3]}\")\n",
        "# 复制\n",
        "print(f\"strList[:] --> {strList[:]}\")\n",
        "# 步长\n",
        "print(f\"strList[::2] --> {strList[::2]}\")\n",
        "# 逆序\n",
        "print(f\"strList[::-1] --> {strList[::-1]}\")\n",
        "# numList = list(range(100))"
      ],
      "execution_count": null,
      "outputs": []
    },
    {
      "cell_type": "markdown",
      "metadata": {
        "id": "sM1x7ucp4ZLO"
      },
      "source": [
        "利用切片操作，实现一个`trim()`函数，去除字符串首尾的空格，注意不要调用 str 的`strip()`方法："
      ]
    },
    {
      "cell_type": "code",
      "metadata": {
        "id": "DCIU-IBZ24oO"
      },
      "source": [
        "def trim(strs):\n",
        "    while strs[:1] == ' ':\n",
        "        strs = strs[1:]\n",
        "    while strs[-1:] == ' ':\n",
        "        strs = strs[:-1]\n",
        "    return strs\n",
        "\n",
        "if trim('hello  ') != 'hello':\n",
        "    print('测试失败!')\n",
        "elif trim('  hello') != 'hello':\n",
        "    print('测试失败!')\n",
        "elif trim('  hello  ') != 'hello':\n",
        "    print('测试失败!')\n",
        "elif trim('  hello  world  ') != 'hello  world':\n",
        "    print('测试失败!')\n",
        "elif trim('') != '':\n",
        "    print('测试失败!')\n",
        "elif trim('    ') != '':\n",
        "    print('测试失败!')\n",
        "else:\n",
        "    print('测试成功!')"
      ],
      "execution_count": null,
      "outputs": []
    },
    {
      "cell_type": "markdown",
      "metadata": {
        "id": "gyZ6Nu-c66pT"
      },
      "source": [
        "## 迭代 Iteration"
      ]
    },
    {
      "cell_type": "code",
      "metadata": {
        "colab": {
          "base_uri": "https://localhost:8080/"
        },
        "id": "zFc3RHca7BxX",
        "outputId": "93dc511a-935b-4bbe-a8a2-a203ad1f4d37"
      },
      "source": [
        "def findMinAndMax(L):\n",
        "    if not L:\n",
        "        return(None, None)\n",
        "    else:\n",
        "        minL = maxL = L[0]\n",
        "        for val in L[1:]:\n",
        "            if val < minL:\n",
        "                minL = val\n",
        "            if val > maxL:\n",
        "                maxL = val\n",
        "        return (minL, maxL)\n",
        "\n",
        "# 测试\n",
        "if findMinAndMax([]) != (None, None):\n",
        "    print('1测试失败!')\n",
        "elif findMinAndMax([7]) != (7, 7):\n",
        "    print('2测试失败!')\n",
        "elif findMinAndMax([7, 1]) != (1, 7):\n",
        "    print('3测试失败!')\n",
        "elif findMinAndMax([7, 1, 3, 9, 5]) != (1, 9):\n",
        "    print('4测试失败!')\n",
        "else:\n",
        "    print('测试成功!')"
      ],
      "execution_count": null,
      "outputs": [
        {
          "output_type": "stream",
          "text": [
            "测试成功!\n"
          ],
          "name": "stdout"
        }
      ]
    },
    {
      "cell_type": "markdown",
      "metadata": {
        "id": "jXfaOk5NAEsu"
      },
      "source": [
        "## 列表生成式 List Comprehensions"
      ]
    },
    {
      "cell_type": "code",
      "metadata": {
        "id": "-h421SxnAhe_"
      },
      "source": [
        "a = [x*x for x in range(1, 11)]\n",
        "b = [x*x for x in range(1, 11) if x%2 == 0]\n",
        "c = [x if x%2 == 0 else -x for x in range(1, 11)]\n",
        "\n",
        "print(f\"平方：{a}\")\n",
        "print(f\"偶数的平方：{b}\")\n",
        "print(f\"奇负偶正：{c}\")"
      ],
      "execution_count": null,
      "outputs": []
    },
    {
      "cell_type": "markdown",
      "metadata": {
        "id": "7-d0F6tfnHjr"
      },
      "source": [
        "## 生成器 Generator"
      ]
    },
    {
      "cell_type": "markdown",
      "metadata": {
        "id": "xBqFRZ80oclH"
      },
      "source": [
        "### `for` 循环"
      ]
    },
    {
      "cell_type": "code",
      "metadata": {
        "id": "0F0ny-pQnRE8"
      },
      "source": [
        "# 列表生成式\n",
        "[x*x for x in range(10)]"
      ],
      "execution_count": null,
      "outputs": []
    },
    {
      "cell_type": "code",
      "metadata": {
        "id": "HXUdMn7ooGl0"
      },
      "source": [
        "# 生成器\n",
        "y = (x*x for x in range(10))\n",
        "for k in y:\n",
        "    print(k)"
      ],
      "execution_count": null,
      "outputs": []
    },
    {
      "cell_type": "markdown",
      "metadata": {
        "id": "CLUYCjfVqlhu"
      },
      "source": [
        "### 函数"
      ]
    },
    {
      "cell_type": "markdown",
      "metadata": {
        "id": "u-UupSYppBsH"
      },
      "source": [
        "#### 斐波拉契数列（Fibonacci）"
      ]
    },
    {
      "cell_type": "code",
      "metadata": {
        "id": "0eYlMNq9pD3B"
      },
      "source": [
        "# 函数\n",
        "def Fib(max):\n",
        "    n, a, b = 0, 0, 1\n",
        "    while n < max:\n",
        "        print(b)\n",
        "        a, b = b, a + b\n",
        "        n += 1\n",
        "    return 'Done'\n",
        "\n",
        "Fib(6)"
      ],
      "execution_count": null,
      "outputs": []
    },
    {
      "cell_type": "code",
      "metadata": {
        "id": "2-IxCJ1lp7tb"
      },
      "source": [
        "# 生成器\n",
        "def Fib():\n",
        "    a, b = 0, 1\n",
        "    while True:\n",
        "        yield a\n",
        "        a, b = b, a + b\n",
        "\n",
        "n = 0\n",
        "max = 6\n",
        "fib = Fib()\n",
        "for i in fib:\n",
        "    print(i)\n",
        "    n += 1\n",
        "    if n > max: break"
      ],
      "execution_count": null,
      "outputs": []
    },
    {
      "cell_type": "markdown",
      "metadata": {
        "id": "xSVn72T6rmr-"
      },
      "source": [
        "### 杨辉三角"
      ]
    },
    {
      "cell_type": "code",
      "metadata": {
        "id": "fG47N4Fvr4aO"
      },
      "source": [
        "# 函数\n",
        "def triangles(max):\n",
        "    L = [1]\n",
        "    n = 0\n",
        "    while n < max:\n",
        "        print(L)\n",
        "        L = [1] + [L[i]+L[i+1] for i in range(len(L)-1)] + [1]\n",
        "        n += 1\n",
        "    return 'Done'\n",
        "\n",
        "triangles(8)"
      ],
      "execution_count": null,
      "outputs": []
    },
    {
      "cell_type": "code",
      "metadata": {
        "id": "UgWOxZ2T6ZpG"
      },
      "source": [
        "# 生成器\n",
        "def Triangles():\n",
        "    L = [1]\n",
        "    while True:\n",
        "        yield L\n",
        "        # L = [1] + [L[i]+L[i+1] for i in range(len(L)-1)] + [1]\n",
        "        L = [1] + [x+y for x, y in zip(L[:-1], L[1:])] + [1]\n",
        "\n",
        "max = 8\n",
        "n = 0\n",
        "for L in Triangles():\n",
        "    print(L)\n",
        "    n += 1\n",
        "    if n > max: break"
      ],
      "execution_count": null,
      "outputs": []
    },
    {
      "cell_type": "markdown",
      "metadata": {
        "id": "7v1qfAY9yiSv"
      },
      "source": [
        "## 迭代器 Iterator"
      ]
    },
    {
      "cell_type": "markdown",
      "metadata": {
        "id": "k0ctnuTYzJSh"
      },
      "source": [
        "集合数据类型如`list`、`dict`、`str`等是 Iterable 但不是 Iterator，不过可以通过`iter()`函数获得一个Iterator对象。"
      ]
    },
    {
      "cell_type": "code",
      "metadata": {
        "id": "p-D5RNyY0K7I"
      },
      "source": [
        "# 迭代器\n",
        "class Fib():\n",
        "    def __init__(self):\n",
        "        self.a, self.b = 0, 1\n",
        "    def __iter__(self):\n",
        "        return self\n",
        "    def __next__(self):\n",
        "        self.a, self.b = self.b, self.a + self.b\n",
        "        return self.a\n",
        "\n",
        "n = 0\n",
        "max = 6\n",
        "fib = Fib()\n",
        "for i in fib:\n",
        "    print(i)\n",
        "    n += 1\n",
        "    if n > max: break"
      ],
      "execution_count": null,
      "outputs": []
    }
  ]
}